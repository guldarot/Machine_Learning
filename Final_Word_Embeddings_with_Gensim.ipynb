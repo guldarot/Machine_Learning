{
  "nbformat": 4,
  "nbformat_minor": 0,
  "metadata": {
    "kernelspec": {
      "display_name": "Python 3",
      "language": "python",
      "name": "python3"
    },
    "language_info": {
      "codemirror_mode": {
        "name": "ipython",
        "version": 3
      },
      "file_extension": ".py",
      "mimetype": "text/x-python",
      "name": "python",
      "nbconvert_exporter": "python",
      "pygments_lexer": "ipython3",
      "version": "3.7.3"
    },
    "colab": {
      "provenance": []
    }
  },
  "cells": [
    {
      "cell_type": "markdown",
      "metadata": {
        "id": "qrmlikzE_6Er"
      },
      "source": [
        "# 01 - Exploring Word Embeddings\n",
        "In this notebook, we'll look at trained word embeddings. We'll plot the embeddings so we can attempt to visually compare embeddings. We'll then look at analogies and word similarities. We'll use the Gensim library which makes it easy to work with embeddings."
      ]
    },
    {
      "cell_type": "code",
      "metadata": {
        "id": "xB1y1EFC_6Eu"
      },
      "source": [
        "import gensim\n",
        "import gensim.downloader as api\n",
        "from sklearn.metrics.pairwise import cosine_similarity\n",
        "import numpy as np\n",
        "import seaborn as sns\n",
        "import matplotlib.pyplot as plt\n",
        "import warnings\n",
        "warnings.filterwarnings('ignore')"
      ],
      "execution_count": 29,
      "outputs": []
    },
    {
      "cell_type": "markdown",
      "metadata": {
        "id": "AlYeTyjz_6Ey"
      },
      "source": [
        "#### Download a table of pre-trained embeddings"
      ]
    },
    {
      "cell_type": "code",
      "source": [
        "# use GloVe model\n",
        "model = api.load(\"glove-wiki-gigaword-300\")\n"
      ],
      "metadata": {
        "id": "WfbZxnb1RGmI",
        "colab": {
          "base_uri": "https://localhost:8080/"
        },
        "outputId": "9c4d1a0a-37cb-47da-978f-752372529dd7"
      },
      "execution_count": 3,
      "outputs": [
        {
          "output_type": "stream",
          "name": "stdout",
          "text": [
            "[==================================================] 100.0% 376.1/376.1MB downloaded\n"
          ]
        }
      ]
    },
    {
      "cell_type": "markdown",
      "source": [
        "How many words does this table have?"
      ],
      "metadata": {
        "id": "SZrixT0VaZvZ"
      }
    },
    {
      "cell_type": "code",
      "source": [
        "model.vectors.shape"
      ],
      "metadata": {
        "colab": {
          "base_uri": "https://localhost:8080/"
        },
        "id": "ypofW6J8Zf4e",
        "outputId": "21afbb7a-fb8a-4deb-eb1c-a4eecf1e28cd"
      },
      "execution_count": 30,
      "outputs": [
        {
          "output_type": "execute_result",
          "data": {
            "text/plain": [
              "(400000, 300)"
            ]
          },
          "metadata": {},
          "execution_count": 30
        }
      ]
    },
    {
      "cell_type": "markdown",
      "source": [
        "Which means:\n",
        "* 400,000 words (vocab_size)\n",
        "* Each has an embedding composed of 300 numbers (embedding_size)"
      ],
      "metadata": {
        "id": "-HaN8E_DaIq9"
      }
    },
    {
      "cell_type": "code",
      "source": [
        "model['cat']"
      ],
      "metadata": {
        "colab": {
          "base_uri": "https://localhost:8080/"
        },
        "id": "2cgLhlQTZo86",
        "outputId": "da587541-bda8-4f6c-9471-6fe37ec29ad1"
      },
      "execution_count": 31,
      "outputs": [
        {
          "output_type": "execute_result",
          "data": {
            "text/plain": [
              "array([-0.29353  ,  0.33247  , -0.047372 , -0.12247  ,  0.071956 ,\n",
              "       -0.23408  , -0.06238  , -0.0037192, -0.39462  , -0.69411  ,\n",
              "        0.36731  , -0.12141  , -0.044485 , -0.15268  ,  0.34864  ,\n",
              "        0.22926  ,  0.54361  ,  0.25215  ,  0.097972 , -0.087305 ,\n",
              "        0.87058  , -0.12211  , -0.079825 ,  0.28712  , -0.68563  ,\n",
              "       -0.27265  ,  0.22056  , -0.75752  ,  0.56293  ,  0.091377 ,\n",
              "       -0.71004  , -0.3142   , -0.56826  , -0.26684  , -0.60102  ,\n",
              "        0.26959  , -0.17992  ,  0.10701  , -0.57858  ,  0.38161  ,\n",
              "       -0.67127  ,  0.10927  ,  0.079426 ,  0.022372 , -0.081147 ,\n",
              "        0.011182 ,  0.67089  , -0.19094  , -0.33676  , -0.48471  ,\n",
              "       -0.35406  , -0.15209  ,  0.44503  ,  0.46385  ,  0.38409  ,\n",
              "        0.045081 , -0.59079  ,  0.21763  ,  0.38576  , -0.44567  ,\n",
              "        0.009332 ,  0.442    ,  0.097062 ,  0.38005  , -0.11881  ,\n",
              "       -0.42718  , -0.31005  , -0.025058 ,  0.12689  , -0.13468  ,\n",
              "        0.11976  ,  0.76253  ,  0.2524   , -0.26934  ,  0.068629 ,\n",
              "       -0.10071  ,  0.011066 , -0.18532  ,  0.44983  , -0.57507  ,\n",
              "        0.12278  , -0.064878 ,  0.044456 , -0.020999 , -0.069838 ,\n",
              "       -0.47329  , -0.43074  ,  0.39158  , -0.047815 , -0.93659  ,\n",
              "       -0.55128  , -0.1422   , -0.15829  ,  0.15623  ,  0.070461 ,\n",
              "        0.19892  ,  0.18942  , -0.19339  , -0.46594  , -0.028825 ,\n",
              "        0.0056752, -0.0054038,  0.43144  ,  0.12257  , -0.2611   ,\n",
              "        0.04847  ,  0.32244  , -0.31064  , -0.10559  ,  0.97954  ,\n",
              "        0.069626 , -0.023187 , -0.86293  ,  0.48273  ,  0.23649  ,\n",
              "       -0.0034704, -0.18932  ,  0.18588  ,  0.023211 , -0.30643  ,\n",
              "       -0.35717  ,  0.19605  , -0.1584   , -0.0058626,  0.35248  ,\n",
              "        0.036053 , -0.53933  ,  0.49435  ,  0.45332  , -0.18477  ,\n",
              "        0.040648 , -0.094517 , -0.07116  ,  0.74005  , -0.11465  ,\n",
              "       -0.26916  ,  0.089765 , -0.25205  , -0.21469  , -0.38847  ,\n",
              "        0.32509  ,  0.25773  , -0.51764  , -0.38457  ,  0.028254 ,\n",
              "       -0.21232  , -0.27311  ,  0.69178  , -0.37681  ,  0.14241  ,\n",
              "       -0.24926  ,  0.40314  , -0.052916 ,  0.07684  ,  0.2135   ,\n",
              "        0.10921  ,  0.049658 ,  0.02093  ,  0.11953  ,  0.28648  ,\n",
              "        0.87791  ,  0.085838 ,  0.31983  ,  0.51856  , -0.22628  ,\n",
              "        0.12402  ,  0.48805  ,  0.22111  , -0.52021  ,  0.0025106,\n",
              "       -0.13305  , -0.052565 ,  0.32744  ,  0.64985  ,  0.072426 ,\n",
              "       -0.52743  , -0.20913  , -0.27897  , -0.10834  , -0.10103  ,\n",
              "        0.15299  , -0.36681  ,  0.082445 ,  0.1739   , -0.28099  ,\n",
              "       -0.069136 ,  0.7895   ,  0.060571 ,  0.38693  , -0.16495  ,\n",
              "       -0.21801  ,  0.33288  , -0.44568  , -0.49892  , -0.34438  ,\n",
              "       -0.035606 , -0.24239  , -0.4747   , -0.17254  ,  0.071349 ,\n",
              "        1.4091   ,  0.46166  ,  0.46546  , -0.30979  ,  0.37203  ,\n",
              "        0.47897  , -0.28872  , -0.65515  , -0.13629  , -0.14287  ,\n",
              "       -0.04843  , -0.12786  ,  0.18941  , -0.037051 ,  0.59471  ,\n",
              "       -0.0051618, -0.0086009, -0.33313  ,  0.288    , -0.058965 ,\n",
              "       -0.67275  ,  0.15544  ,  0.074187 , -0.36441  , -0.021285 ,\n",
              "       -0.065337 ,  0.13827  ,  0.008395 , -0.041113 ,  0.29401  ,\n",
              "       -0.10344  , -0.052371 , -0.63084  ,  0.16311  ,  0.052826 ,\n",
              "       -0.021797 , -0.28115  , -0.078361 , -0.38124  ,  0.078089 ,\n",
              "        0.38411  , -0.34629  , -0.4322   ,  0.091731 , -0.67867  ,\n",
              "       -0.041138 , -0.53981  ,  0.10678  ,  0.03343  ,  0.81396  ,\n",
              "       -0.19448  ,  0.026248 , -0.14215  ,  0.2954   ,  0.62738  ,\n",
              "        0.26499  ,  0.6191   , -0.04113  ,  0.12301  ,  0.3158   ,\n",
              "        0.10698  ,  0.023654 , -0.41355  ,  0.034852 ,  0.21361  ,\n",
              "        0.045834 ,  0.053415 , -0.36421  ,  0.19707  ,  0.50916  ,\n",
              "       -0.1949   , -0.18788  , -0.24449  , -0.63397  , -0.23125  ,\n",
              "       -0.18823  , -1.0601   ,  0.47794  , -1.0102   ,  0.24604  ,\n",
              "       -0.4876   ,  0.79146  , -0.11047  , -0.21762  , -0.6178   ,\n",
              "        0.27815  , -0.098169 , -0.063205 ,  0.066069 , -0.69305  ,\n",
              "       -0.25928  ,  0.44591  , -0.64198  , -0.33084  , -0.30154  ,\n",
              "       -0.56359  ,  0.60501  , -0.09673  ,  0.44444  ,  0.22007  ],\n",
              "      dtype=float32)"
            ]
          },
          "metadata": {},
          "execution_count": 31
        }
      ]
    },
    {
      "cell_type": "markdown",
      "source": [
        "# Test"
      ],
      "metadata": {
        "id": "fipU2l_smy1F"
      }
    },
    {
      "cell_type": "code",
      "source": [
        "# Access embeddings for words\n",
        "embedding1 = model[\"cat\"]\n",
        "embedding2 = model[\"dog\"]"
      ],
      "metadata": {
        "id": "b6GypBoDUuEk"
      },
      "execution_count": 32,
      "outputs": []
    },
    {
      "cell_type": "markdown",
      "source": [
        "You can check how similar two words are based on their cosine similarity."
      ],
      "metadata": {
        "id": "uO8C9S6Ca_IM"
      }
    },
    {
      "cell_type": "code",
      "source": [
        "similarity = cosine_similarity([embedding1], [embedding2])\n",
        "print(f\"Cosine Similarity between 'cat' and 'dog': {similarity[0][0]}\")\n"
      ],
      "metadata": {
        "colab": {
          "base_uri": "https://localhost:8080/"
        },
        "id": "UY-tkgOCXWDl",
        "outputId": "20dd623f-69e2-4c31-ebfa-259f9856c988"
      },
      "execution_count": 33,
      "outputs": [
        {
          "output_type": "stream",
          "name": "stdout",
          "text": [
            "Cosine Similarity between 'cat' and 'dog': 0.6816747188568115\n"
          ]
        }
      ]
    },
    {
      "cell_type": "markdown",
      "source": [
        "Measure the distance between the embeddings of two words."
      ],
      "metadata": {
        "id": "W8Uin2EGarhS"
      }
    },
    {
      "cell_type": "code",
      "source": [
        "distance = np.linalg.norm(embedding1 - embedding2)\n",
        "print(f\"Euclidean Distance between 'cat' and 'dog': {distance}\")\n"
      ],
      "metadata": {
        "colab": {
          "base_uri": "https://localhost:8080/"
        },
        "id": "xyN_mS4zXhVV",
        "outputId": "8f87ec5d-c1c4-461f-918c-6a81018152cb"
      },
      "execution_count": 34,
      "outputs": [
        {
          "output_type": "stream",
          "name": "stdout",
          "text": [
            "Euclidean Distance between 'cat' and 'dog': 5.195904731750488\n"
          ]
        }
      ]
    },
    {
      "cell_type": "markdown",
      "source": [
        "Check the dot product to understand the directional similarity of two embeddings."
      ],
      "metadata": {
        "id": "gQ39_P2IbJpU"
      }
    },
    {
      "cell_type": "code",
      "source": [
        "dot_product = np.dot(embedding1, embedding2)\n",
        "print(f\"Dot Product between 'cat' and 'dog': {dot_product}\")\n"
      ],
      "metadata": {
        "colab": {
          "base_uri": "https://localhost:8080/"
        },
        "id": "L-Vxqp3iX1GF",
        "outputId": "bd14a886-dec9-4544-d714-2b634177ca1b"
      },
      "execution_count": 35,
      "outputs": [
        {
          "output_type": "stream",
          "name": "stdout",
          "text": [
            "Dot Product between 'cat' and 'dog': 28.778003692626953\n"
          ]
        }
      ]
    },
    {
      "cell_type": "markdown",
      "source": [
        "Top 100 Similar words"
      ],
      "metadata": {
        "id": "Mapg7n6WbO_S"
      }
    },
    {
      "cell_type": "code",
      "source": [
        "similar_words = model.most_similar(\"pakistan\", topn=100)\n",
        "\n",
        "# Display the similar words in a stacked list format\n",
        "for word, similarity in similar_words:\n",
        "    print(f\"{word}: {similarity}\")\n",
        "\n"
      ],
      "metadata": {
        "colab": {
          "base_uri": "https://localhost:8080/"
        },
        "id": "39K_wPhKYArd",
        "outputId": "68e9cd29-63b7-41e2-bf1b-8db2e7f0d14a"
      },
      "execution_count": 42,
      "outputs": [
        {
          "output_type": "stream",
          "name": "stdout",
          "text": [
            "pakistani: 0.7468125820159912\n",
            "india: 0.7285578846931458\n",
            "bangladesh: 0.6560508608818054\n",
            "islamabad: 0.6534844040870667\n",
            "afghanistan: 0.6449339985847473\n",
            "kashmir: 0.6071956157684326\n",
            "musharraf: 0.6063677668571472\n",
            "lanka: 0.5710559487342834\n",
            "karachi: 0.564299464225769\n",
            "lahore: 0.5641221404075623\n",
            "afghan: 0.5493603944778442\n",
            "iran: 0.5435517430305481\n",
            "pervez: 0.5388423800468445\n",
            "delhi: 0.5302056074142456\n",
            "taliban: 0.5259105563163757\n",
            "punjab: 0.5258557200431824\n",
            "sri: 0.5210655927658081\n",
            "militants: 0.5195590853691101\n",
            "bhutto: 0.517187774181366\n",
            "khan: 0.5122395753860474\n",
            "indian: 0.5028319358825684\n",
            "peshawar: 0.49511292576789856\n",
            "pakistanis: 0.4813428819179535\n",
            "arabia: 0.4808826744556427\n",
            "nepal: 0.479999840259552\n",
            "cricket: 0.47665661573410034\n",
            "syria: 0.4667215049266815\n",
            "islamic: 0.4537121653556824\n",
            "yemen: 0.4491788148880005\n",
            "saudi: 0.4431416094303131\n",
            "uzbekistan: 0.44242429733276367\n",
            "australia: 0.43970999121665955\n",
            "zealand: 0.4385705292224884\n",
            "militant: 0.4382505416870117\n",
            "malaysia: 0.43476229906082153\n",
            "subcontinent: 0.4337340295314789\n",
            "bhutan: 0.4335995316505432\n",
            "tribal: 0.4324434697628021\n",
            "qaida: 0.43231070041656494\n",
            "muslim: 0.4319802522659302\n",
            "border: 0.4315255582332611\n",
            "zardari: 0.4313085675239563\n",
            "terrorism: 0.42978206276893616\n",
            "qaeda: 0.42942699790000916\n",
            "vajpayee: 0.42915287613868713\n",
            "sindh: 0.4284955859184265\n",
            "neighboring: 0.42818570137023926\n",
            "indonesia: 0.42818108201026917\n",
            "zimbabwe: 0.427863746881485\n",
            "nawaz: 0.4256542921066284\n",
            "rawalpindi: 0.42507368326187134\n",
            "hussain: 0.4238874018192291\n",
            "benazir: 0.4237794280052185\n",
            "iraq: 0.4236384928226471\n",
            "kenya: 0.4224633574485779\n",
            "sharif: 0.4218914210796356\n",
            "africa: 0.42126572132110596\n",
            "mohammad: 0.42053312063217163\n",
            "countries: 0.41850605607032776\n",
            "algeria: 0.4168526828289032\n",
            "afghans: 0.4165104925632477\n",
            "kabul: 0.41464099287986755\n",
            "emirates: 0.4137861430644989\n",
            "terror: 0.41354870796203613\n",
            "neighbouring: 0.4132178723812103\n",
            "thailand: 0.41285440325737\n",
            "extremists: 0.4122700095176697\n",
            "malik: 0.4115421175956726\n",
            "haq: 0.4108670949935913\n",
            "egypt: 0.41057050228118896\n",
            "karzai: 0.4093395173549652\n",
            "quetta: 0.4088580310344696\n",
            "balochistan: 0.4079531133174896\n",
            "test: 0.4074341356754303\n",
            "ahmed: 0.40665432810783386\n",
            "asif: 0.40585029125213623\n",
            "tajikistan: 0.4056159555912018\n",
            "baluchistan: 0.4048399329185486\n",
            "attack: 0.4024837017059326\n",
            "multan: 0.40229523181915283\n",
            "insurgents: 0.40224504470825195\n",
            "dhaka: 0.400908499956131\n",
            "attacks: 0.4001704752445221\n",
            "sudan: 0.3996701240539551\n",
            "nations: 0.39946064352989197\n",
            "terrorists: 0.3981250822544098\n",
            "waziristan: 0.39717382192611694\n",
            "korea: 0.39636358618736267\n",
            "turkey: 0.39619413018226624\n",
            "myanmar: 0.3960704505443573\n",
            "china: 0.3935111165046692\n",
            "maldives: 0.39316946268081665\n",
            "jammu: 0.391411691904068\n",
            "country: 0.3913988173007965\n",
            "lankan: 0.390067994594574\n",
            "terrorist: 0.3897397220134735\n",
            "kyrgyzstan: 0.38954776525497437\n",
            "mumbai: 0.3884696662425995\n",
            "tehran: 0.386296808719635\n",
            "inzamam: 0.38616394996643066\n"
          ]
        }
      ]
    },
    {
      "cell_type": "markdown",
      "metadata": {
        "id": "jjXRJTkH_6FZ"
      },
      "source": [
        "## Analogies\n",
        "### cat - horse + love  = ?"
      ]
    },
    {
      "cell_type": "code",
      "metadata": {
        "id": "dXs2TVam_6Fa",
        "colab": {
          "base_uri": "https://localhost:8080/"
        },
        "outputId": "7fa2f25f-1bc7-4e70-83e7-78db1764d576"
      },
      "source": [
        "model.most_similar(positive=[\"cat\", \"love\"], negative=[\"horse\"])"
      ],
      "execution_count": 37,
      "outputs": [
        {
          "output_type": "execute_result",
          "data": {
            "text/plain": [
              "[('loves', 0.48272591829299927),\n",
              " ('lover', 0.4793064594268799),\n",
              " ('lovers', 0.4516974985599518),\n",
              " ('loved', 0.42938748002052307),\n",
              " ('friends', 0.42440059781074524),\n",
              " ('sings', 0.42226406931877136),\n",
              " ('mom', 0.41548898816108704),\n",
              " ('romantic', 0.41227686405181885),\n",
              " ('affection', 0.40540915727615356),\n",
              " ('cats', 0.40343040227890015)]"
            ]
          },
          "metadata": {},
          "execution_count": 37
        }
      ]
    },
    {
      "cell_type": "code",
      "source": [
        "model.most_similar(positive=[\"man\", \"love\"], negative=[\"woman\"])"
      ],
      "metadata": {
        "colab": {
          "base_uri": "https://localhost:8080/"
        },
        "id": "Pt2VEEGbDRCR",
        "outputId": "699fbfc0-2354-4a4d-83e4-2fc38e5f709e"
      },
      "execution_count": 38,
      "outputs": [
        {
          "output_type": "execute_result",
          "data": {
            "text/plain": [
              "[('passion', 0.534675657749176),\n",
              " ('you', 0.5236014127731323),\n",
              " ('always', 0.5187980532646179),\n",
              " ('me', 0.5141775012016296),\n",
              " ('loves', 0.5118120908737183),\n",
              " ('good', 0.5114336609840393),\n",
              " ('?', 0.499277800321579),\n",
              " ('know', 0.4981096088886261),\n",
              " ('really', 0.49251341819763184),\n",
              " ('fun', 0.4884888827800751)]"
            ]
          },
          "metadata": {},
          "execution_count": 38
        }
      ]
    },
    {
      "cell_type": "code",
      "source": [
        "model.most_similar(positive=[\"woman\", \"love\"], negative=[\"man\"])"
      ],
      "metadata": {
        "colab": {
          "base_uri": "https://localhost:8080/"
        },
        "id": "mYAhAg1EaYxl",
        "outputId": "1b150488-330a-402d-b620-cb07cf3f12ad"
      },
      "execution_count": 40,
      "outputs": [
        {
          "output_type": "execute_result",
          "data": {
            "text/plain": [
              "[('her', 0.5882567763328552),\n",
              " ('mother', 0.5708790421485901),\n",
              " ('she', 0.567848265171051),\n",
              " ('romance', 0.5440021753311157),\n",
              " ('herself', 0.5413269996643066),\n",
              " ('beautiful', 0.5150748491287231),\n",
              " ('girl', 0.5132489800453186),\n",
              " ('lover', 0.5117532014846802),\n",
              " ('loves', 0.503203809261322),\n",
              " ('romantic', 0.5030348896980286)]"
            ]
          },
          "metadata": {},
          "execution_count": 40
        }
      ]
    }
  ]
}