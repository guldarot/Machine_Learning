{
 "cells": [
  {
   "cell_type": "markdown",
   "metadata": {},
   "source": [
    "### Outliers Detection with Z Score Method"
   ]
  },
  {
   "cell_type": "code",
   "execution_count": 1,
   "metadata": {},
   "outputs": [],
   "source": [
    "# Import the required libraries\n",
    "import pandas as pd\n",
    "import numpy as np"
   ]
  },
  {
   "cell_type": "code",
   "execution_count": 2,
   "metadata": {},
   "outputs": [
    {
     "data": {
      "text/html": [
       "<div>\n",
       "<style scoped>\n",
       "    .dataframe tbody tr th:only-of-type {\n",
       "        vertical-align: middle;\n",
       "    }\n",
       "\n",
       "    .dataframe tbody tr th {\n",
       "        vertical-align: top;\n",
       "    }\n",
       "\n",
       "    .dataframe thead th {\n",
       "        text-align: right;\n",
       "    }\n",
       "</style>\n",
       "<table border=\"1\" class=\"dataframe\">\n",
       "  <thead>\n",
       "    <tr style=\"text-align: right;\">\n",
       "      <th></th>\n",
       "      <th>Length</th>\n",
       "      <th>Z-Score</th>\n",
       "    </tr>\n",
       "  </thead>\n",
       "  <tbody>\n",
       "    <tr>\n",
       "      <th>0</th>\n",
       "      <td>10</td>\n",
       "      <td>-0.487324</td>\n",
       "    </tr>\n",
       "    <tr>\n",
       "      <th>1</th>\n",
       "      <td>12</td>\n",
       "      <td>-0.342932</td>\n",
       "    </tr>\n",
       "    <tr>\n",
       "      <th>2</th>\n",
       "      <td>14</td>\n",
       "      <td>-0.198540</td>\n",
       "    </tr>\n",
       "    <tr>\n",
       "      <th>3</th>\n",
       "      <td>10</td>\n",
       "      <td>-0.487324</td>\n",
       "    </tr>\n",
       "    <tr>\n",
       "      <th>4</th>\n",
       "      <td>15</td>\n",
       "      <td>-0.126343</td>\n",
       "    </tr>\n",
       "    <tr>\n",
       "      <th>5</th>\n",
       "      <td>18</td>\n",
       "      <td>0.090245</td>\n",
       "    </tr>\n",
       "    <tr>\n",
       "      <th>6</th>\n",
       "      <td>20</td>\n",
       "      <td>0.234638</td>\n",
       "    </tr>\n",
       "    <tr>\n",
       "      <th>7</th>\n",
       "      <td>13</td>\n",
       "      <td>-0.270736</td>\n",
       "    </tr>\n",
       "    <tr>\n",
       "      <th>8</th>\n",
       "      <td>11</td>\n",
       "      <td>-0.415128</td>\n",
       "    </tr>\n",
       "    <tr>\n",
       "      <th>9</th>\n",
       "      <td>17</td>\n",
       "      <td>0.018049</td>\n",
       "    </tr>\n",
       "    <tr>\n",
       "      <th>10</th>\n",
       "      <td>60</td>\n",
       "      <td>3.122486</td>\n",
       "    </tr>\n",
       "    <tr>\n",
       "      <th>11</th>\n",
       "      <td>1</td>\n",
       "      <td>-1.137090</td>\n",
       "    </tr>\n",
       "  </tbody>\n",
       "</table>\n",
       "</div>"
      ],
      "text/plain": [
       "    Length   Z-Score\n",
       "0       10 -0.487324\n",
       "1       12 -0.342932\n",
       "2       14 -0.198540\n",
       "3       10 -0.487324\n",
       "4       15 -0.126343\n",
       "5       18  0.090245\n",
       "6       20  0.234638\n",
       "7       13 -0.270736\n",
       "8       11 -0.415128\n",
       "9       17  0.018049\n",
       "10      60  3.122486\n",
       "11       1 -1.137090"
      ]
     },
     "execution_count": 2,
     "metadata": {},
     "output_type": "execute_result"
    }
   ],
   "source": [
    "# Here’s a sample dataset of tree lengths (meters)\n",
    "data = pd.DataFrame({'Length': [10,12,14,10,15,18,20,13,11,17,60,1]})\n",
    "\n",
    "# Calculate the mean and standard deviation\n",
    "mean = np.mean(data['Length'])\n",
    "std = np.std(data['Length'])\n",
    "\n",
    "# Calculate the Z-Score\n",
    "data['Z-Score'] = (data['Length'] - mean) / std\n",
    "data"
   ]
  },
  {
   "cell_type": "code",
   "execution_count": 3,
   "metadata": {},
   "outputs": [
    {
     "name": "stdout",
     "output_type": "stream",
     "text": [
      "Here are the outliers based on the z-score threshold, 3:\n",
      "     Length   Z-Score\n",
      "10      60  3.122486\n"
     ]
    }
   ],
   "source": [
    "print(f\"Here are the outliers based on the z-score threshold, 3:\\n {data[data['Z-Score'] > 3]}\")"
   ]
  },
  {
   "cell_type": "code",
   "execution_count": 4,
   "metadata": {},
   "outputs": [
    {
     "name": "stdout",
     "output_type": "stream",
     "text": [
      "Here is the data without outliers:\n",
      "     Length   Z-Score\n",
      "0       10 -0.487324\n",
      "1       12 -0.342932\n",
      "2       14 -0.198540\n",
      "3       10 -0.487324\n",
      "4       15 -0.126343\n",
      "5       18  0.090245\n",
      "6       20  0.234638\n",
      "7       13 -0.270736\n",
      "8       11 -0.415128\n",
      "9       17  0.018049\n",
      "11       1 -1.137090\n"
     ]
    }
   ],
   "source": [
    "# Remove the outliers\n",
    "data = data[data['Z-Score'] <= 3]\n",
    "\n",
    "# Print the data without outliers\n",
    "print(f\"Here is the data without outliers:\\n {data}\")"
   ]
  },
  {
   "cell_type": "code",
   "execution_count": 5,
   "metadata": {},
   "outputs": [
    {
     "name": "stdout",
     "output_type": "stream",
     "text": [
      "----------------------------------------\n",
      "Data: [10, 12, 14, 10, 15, 18, 20, 13, 11, 17, 60, 1]\n",
      "----------------------------------------\n",
      "Indices of Outliers: [10]\n",
      "Outliers: [60]\n",
      "----------------------------------------\n",
      "Data without outliers: [10, 12, 14, 10, 15, 18, 20, 13, 11, 17, 1]\n"
     ]
    }
   ],
   "source": [
    "# Import libraries\n",
    "import numpy as np\n",
    "from scipy import stats\n",
    "\n",
    "# Sample data\n",
    "data = [10,12,14,10,15,18,20,13,11,17,60,1]\n",
    "\n",
    "# Calculate the Z-score for each data point\n",
    "z_scores = np.abs(stats.zscore(data))\n",
    "\n",
    "# Set a threshold for identifying outliers\n",
    "threshold = 2.5 \n",
    "outliers = np.where(z_scores > threshold)[0]\n",
    "\n",
    "# print the data\n",
    "print(\"----------------------------------------\")\n",
    "print(\"Data:\", data)\n",
    "print(\"----------------------------------------\")\n",
    "\n",
    "print(\"Indices of Outliers:\", outliers)\n",
    "print(\"Outliers:\", [data[i] for i in outliers])\n",
    "\n",
    "# Remove outliers\n",
    "data = [data[i] for i in range(len(data)) if i not in outliers]\n",
    "print(\"----------------------------------------\")\n",
    "print(\"Data without outliers:\", data)"
   ]
  },
  {
   "cell_type": "markdown",
   "metadata": {},
   "source": [
    "### Outliers Detection with IQR"
   ]
  },
  {
   "cell_type": "code",
   "execution_count": 13,
   "metadata": {},
   "outputs": [
    {
     "name": "stdout",
     "output_type": "stream",
     "text": [
      "----------------------------------------\n",
      "Here is the sorted data:\n",
      "     Age\n",
      "0    12\n",
      "1    14\n",
      "2    16\n",
      "3    18\n",
      "4    19\n",
      "5    20\n",
      "6    22\n",
      "7    22\n",
      "8    22\n",
      "9    25\n",
      "10   28\n",
      "11   30\n",
      "12   34\n",
      "13   37\n",
      "14   40\n",
      "15   42\n",
      "16   45\n",
      "17   48\n",
      "18   55\n",
      "19  100\n",
      "----------------------------------------\n",
      "Here are the outliers based on the IQR threshold:\n",
      "     Age\n",
      "19  100\n",
      "----------------------------------------\n",
      "Here is the data without outliers:\n",
      "     Age\n",
      "0    12\n",
      "1    14\n",
      "2    16\n",
      "3    18\n",
      "4    19\n",
      "5    20\n",
      "6    22\n",
      "7    22\n",
      "8    22\n",
      "9    25\n",
      "10   28\n",
      "11   30\n",
      "12   34\n",
      "13   37\n",
      "14   40\n",
      "15   42\n",
      "16   45\n",
      "17   48\n",
      "18   55\n"
     ]
    }
   ],
   "source": [
    "# Import the required libraries\n",
    "import pandas as pd\n",
    "import numpy as np\n",
    "\n",
    "# Create the data and sort it in ascending order\n",
    "data = pd.DataFrame({'Age': sorted([12, 14, 22, 16, 18, 19, 22, 20, 22, 25, 28, 30, 34, 37, 40, 42, 45, 48, 55, 100])})\n",
    "\n",
    "# Calculate the first and third quartile\n",
    "Q1 = np.percentile(data['Age'], 25)  # 25th percentile\n",
    "Q3 = np.percentile(data['Age'], 75)  # 75th percentile\n",
    "\n",
    "# Calculate the IQR\n",
    "IQR = Q3 - Q1\n",
    "\n",
    "# Calculate the lower and upper bounds\n",
    "lower_bound = Q1 - (1.5 * IQR)\n",
    "upper_bound = Q3 + (1.5 * IQR)\n",
    "\n",
    "# Print the sorted data\n",
    "print(\"----------------------------------------\")\n",
    "print(f\"Here is the sorted data:\\n {data}\")\n",
    "print(\"----------------------------------------\")\n",
    "\n",
    "# Find and print the outliers\n",
    "outliers = data[(data['Age'] < lower_bound) | (data['Age'] > upper_bound)]\n",
    "print(f\"Here are the outliers based on the IQR threshold:\\n {outliers}\")\n",
    "print(\"----------------------------------------\")\n",
    "\n",
    "# Remove the outliers\n",
    "cleaned_data = data[(data['Age'] >= lower_bound) & (data['Age'] <= upper_bound)]\n",
    "\n",
    "# Print the data without outliers\n",
    "print(f\"Here is the data without outliers:\\n {cleaned_data}\")\n"
   ]
  },
  {
   "cell_type": "code",
   "execution_count": 14,
   "metadata": {},
   "outputs": [
    {
     "data": {
      "image/png": "[encoded data removed]",
      "text/plain": [
       "<Figure size 800x600 with 1 Axes>"
      ]
     },
     "metadata": {},
     "output_type": "display_data"
    }
   ],
   "source": [
    "import matplotlib.pyplot as plt\n",
    "\n",
    "# Create a box plot for the 'Age' data from the DataFrame\n",
    "plt.figure(figsize=(8, 6))\n",
    "plt.boxplot(data['Age'], vert=False, patch_artist=True, \n",
    "            boxprops=dict(facecolor='lightblue', color='black'), \n",
    "            whiskerprops=dict(color='black'), \n",
    "            flierprops=dict(marker='o', color='red', markersize=8), \n",
    "            medianprops=dict(color='blue', linewidth=2))\n",
    "\n",
    "# Title and labels\n",
    "plt.title(\"Box Plot of Age Data\")\n",
    "plt.xlabel(\"Age\")\n",
    "\n",
    "# Show the plot\n",
    "plt.show()\n"
   ]
  },
  {
   "cell_type": "code",
   "execution_count": 8,
   "metadata": {},
   "outputs": [
    {
     "name": "stdout",
     "output_type": "stream",
     "text": [
      "Normal Distribution DataFrame:\n",
      "         Age\n",
      "0  58.429953\n",
      "1  38.109696\n",
      "2  43.333675\n",
      "3  39.302016\n",
      "4  48.436199\n",
      "\n",
      "Skewed Distribution DataFrame:\n",
      "          Age\n",
      "0   40.291478\n",
      "1   14.826957\n",
      "2  132.345939\n",
      "3  159.649024\n",
      "4   21.775005\n"
     ]
    }
   ],
   "source": [
    "import numpy as np\n",
    "import pandas as pd\n",
    "\n",
    "# 1. Normal Distribution\n",
    "# Generate a normal distribution with mean=50, std deviation=10, and sample size=1000\n",
    "mean = 50\n",
    "std_dev = 10\n",
    "size = 1000\n",
    "\n",
    "normal_data = np.random.normal(loc=mean, scale=std_dev, size=size)\n",
    "\n",
    "# Create DataFrame for normal distribution\n",
    "normal_df = pd.DataFrame({'Age': normal_data})\n",
    "\n",
    "# 2. Skewed Distribution (Right Skewed using Exponential Distribution)\n",
    "# Generate skewed data with scale=50 (larger values) and size=1000\n",
    "skewed_data = np.random.exponential(scale=50, size=size)\n",
    "\n",
    "# Create DataFrame for skewed distribution\n",
    "skewed_df = pd.DataFrame({'Age': skewed_data})\n",
    "\n",
    "# Show first few rows of both DataFrames\n",
    "print(\"Normal Distribution DataFrame:\")\n",
    "print(normal_df.head())\n",
    "\n",
    "print(\"\\nSkewed Distribution DataFrame:\")\n",
    "print(skewed_df.head())\n"
   ]
  },
  {
   "cell_type": "code",
   "execution_count": 9,
   "metadata": {},
   "outputs": [
    {
     "data": {
      "image/png": "[encoded data removed]",
      "text/plain": [
       "<Figure size 800x600 with 1 Axes>"
      ]
     },
     "metadata": {},
     "output_type": "display_data"
    }
   ],
   "source": [
    "import matplotlib.pyplot as plt\n",
    "\n",
    "# Create a box plot for the 'Age' data from the DataFrame\n",
    "plt.figure(figsize=(8, 6))\n",
    "plt.boxplot(normal_df['Age'], vert=False, patch_artist=True, \n",
    "            boxprops=dict(facecolor='lightblue', color='black'), \n",
    "            whiskerprops=dict(color='black'), \n",
    "            flierprops=dict(marker='o', color='red', markersize=8), \n",
    "            medianprops=dict(color='blue', linewidth=2))\n",
    "\n",
    "# Title and labels\n",
    "plt.title(\"Box Plot of Age Data\")\n",
    "plt.xlabel(\"Age\")\n",
    "\n",
    "# Show the plot\n",
    "plt.show()\n"
   ]
  },
  {
   "cell_type": "code",
   "execution_count": 10,
   "metadata": {},
   "outputs": [
    {
     "data": {
      "image/png": "[encoded data removed]",
      "text/plain": [
       "<Figure size 800x600 with 1 Axes>"
      ]
     },
     "metadata": {},
     "output_type": "display_data"
    }
   ],
   "source": [
    "import matplotlib.pyplot as plt\n",
    "\n",
    "# Create a box plot for the 'Age' data from the DataFrame\n",
    "plt.figure(figsize=(8, 6))\n",
    "plt.boxplot(skewed_df['Age'], vert=False, patch_artist=True, \n",
    "            boxprops=dict(facecolor='lightblue', color='black'), \n",
    "            whiskerprops=dict(color='black'), \n",
    "            flierprops=dict(marker='o', color='red', markersize=8), \n",
    "            medianprops=dict(color='blue', linewidth=2))\n",
    "\n",
    "# Title and labels\n",
    "plt.title(\"Box Plot of Age Data\")\n",
    "plt.xlabel(\"Age\")\n",
    "\n",
    "# Show the plot\n",
    "plt.show()\n"
   ]
  },
  {
   "cell_type": "markdown",
   "metadata": {},
   "source": [
    "### Outliers Detection with K Means "
   ]
  },
  {
   "cell_type": "code",
   "execution_count": 15,
   "metadata": {},
   "outputs": [
    {
     "name": "stdout",
     "output_type": "stream",
     "text": [
      "Data: [[4, 5], [3, 2], [3, 4], [6, 3], [40, 41], [41, 41], [43, 44], [42, 43]]\n",
      "Outliers: [[40, 41], [41, 41], [43, 44], [42, 43]]\n",
      "Data without outliers: [[4, 5], [3, 2], [3, 4], [6, 3]]\n"
     ]
    }
   ],
   "source": [
    "# Import library\n",
    "from sklearn.cluster import KMeans\n",
    "\n",
    "# Sample data\n",
    "data = [[4, 5], [3, 2], [3, 4],[6, 3],[40, 41], [41, 41], [43, 44],[42,43]]\n",
    "\n",
    "# Create a K-means model with two clusters (normal and outlier)\n",
    "kmeans = KMeans(n_clusters=2, n_init=10)\n",
    "kmeans.fit(data)\n",
    "\n",
    "# Predict cluster labels\n",
    "labels = kmeans.predict(data)\n",
    "\n",
    "# Identify outliers based on cluster labels\n",
    "outliers = [data[i] for i, label in enumerate(labels) if label == 1]\n",
    "\n",
    "# print data\n",
    "print(\"Data:\", data)\n",
    "print(\"Outliers:\", outliers)\n",
    "# Remove outliers\n",
    "data = [data[i] for i, label in enumerate(labels) if label == 0]\n",
    "print(\"Data without outliers:\", data)"
   ]
  }
 ],
 "metadata": {
  "kernelspec": {
   "display_name": "ml_env",
   "language": "python",
   "name": "python3"
  },
  "language_info": {
   "codemirror_mode": {
    "name": "ipython",
    "version": 3
   },
   "file_extension": ".py",
   "mimetype": "text/x-python",
   "name": "python",
   "nbconvert_exporter": "python",
   "pygments_lexer": "ipython3",
   "version": "3.11.9"
  }
 },
 "nbformat": 4,
 "nbformat_minor": 2
}
